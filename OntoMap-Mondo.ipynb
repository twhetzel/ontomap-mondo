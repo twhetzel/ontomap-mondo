{
 "cells": [
  {
   "cell_type": "markdown",
   "id": "8783550a-ea4d-4cb3-bbdd-e3db0f5c9447",
   "metadata": {},
   "source": [
    "# OntoMap Mondo\n",
    "\n",
    "This project is to investigate AI functions in BigQuery and apply these to the task of mapping ontology terms between disease ontologies."
   ]
  },
  {
   "cell_type": "code",
   "execution_count": 13,
   "id": "9ec86550-d6c7-43d0-89b6-cbfbedca5591",
   "metadata": {},
   "outputs": [],
   "source": [
    "# Imports\n",
    "\n",
    "import time\n",
    "import pandas as pd"
   ]
  },
  {
   "cell_type": "markdown",
   "id": "08ab4081-c833-49ba-a35c-57cb8101f814",
   "metadata": {},
   "source": [
    "## Prepare Google Cloud Environment"
   ]
  },
  {
   "cell_type": "code",
   "execution_count": 2,
   "id": "14fb615b-8a7c-4d7e-b872-669e5eaca228",
   "metadata": {},
   "outputs": [],
   "source": [
    "# Initialize Google Cloud Login. This only needs to be done once when running the notebook.\n",
    "\n",
    "#! gcloud auth login"
   ]
  },
  {
   "cell_type": "markdown",
   "id": "154fe042-e713-4b1d-8ef2-a32ffa9996a6",
   "metadata": {},
   "source": [
    "### Create BigQuery Cloud resource connection\n",
    "You will need to create a [Cloud resource connection](https://cloud.google.com/bigquery/docs/create-cloud-resource-connection) to enable BigQuery to interact with Vertex AI services."
   ]
  },
  {
   "cell_type": "code",
   "execution_count": 3,
   "id": "cc206bb5-f6d7-4062-a28f-13bd8366a345",
   "metadata": {},
   "outputs": [],
   "source": [
    "# This only needs to be done once so comment out if re-running the notebook.\n",
    "\n",
    "# !bq mk --connection --location=us \\\n",
    "#     --connection_type=CLOUD_RESOURCE test_connection"
   ]
  },
  {
   "cell_type": "markdown",
   "id": "a65e0f2f-ea96-474c-8ae3-43cd6bb59206",
   "metadata": {},
   "source": [
    "### Set permissions for Service Account\n",
    "The resource connection service account requires certain project-level permissions to interact with Vertex AI."
   ]
  },
  {
   "cell_type": "code",
   "execution_count": 4,
   "id": "eb8625df-fe53-4c30-9202-da78de17488b",
   "metadata": {},
   "outputs": [],
   "source": [
    "# SERVICE_ACCT = !bq show --format=prettyjson --connection us.test_connection | grep \"serviceAccountId\" | cut -d '\"' -f 4\n",
    "# SERVICE_ACCT_EMAIL = SERVICE_ACCT[-1]\n",
    "# print(SERVICE_ACCT_EMAIL)"
   ]
  },
  {
   "cell_type": "code",
   "execution_count": 5,
   "id": "2931ff36-377d-4aa3-8d71-4f96badc0371",
   "metadata": {},
   "outputs": [],
   "source": [
    "# PROJECT_ID=\"ontomap-mondo\"\n",
    "# SA_EMAIL=\"bqcx-1038190416641-ocdv@gcp-sa-bigquery-condel.iam.gserviceaccount.com\"\n",
    "\n",
    "# !gcloud projects add-iam-policy-binding \"$PROJECT_ID\" \\\n",
    "#   --member=\"serviceAccount:$SA_EMAIL\" \\\n",
    "#   --role=\"roles/bigquery.connectionUser\"\n",
    "\n",
    "# !gcloud projects add-iam-policy-binding \"$PROJECT_ID\" \\\n",
    "#   --member=\"serviceAccount:$SA_EMAIL\" \\\n",
    "#   --role=\"roles/aiplatform.user\"\n",
    "\n",
    "# # wait 60 seconds, give IAM updates time to propagate, otherwise, following cells will fail\n",
    "# time.sleep(60)"
   ]
  },
  {
   "cell_type": "markdown",
   "id": "d421e72a-8f5a-4f97-8a72-0541feab9d8f",
   "metadata": {},
   "source": [
    "---\n",
    "## Filter Mondo Mapping Gold Standard data"
   ]
  },
  {
   "cell_type": "code",
   "execution_count": 15,
   "id": "28d3adc1-3254-468e-9d6d-35397083937a",
   "metadata": {},
   "outputs": [
    {
     "data": {
      "text/html": [
       "<div>\n",
       "<style scoped>\n",
       "    .dataframe tbody tr th:only-of-type {\n",
       "        vertical-align: middle;\n",
       "    }\n",
       "\n",
       "    .dataframe tbody tr th {\n",
       "        vertical-align: top;\n",
       "    }\n",
       "\n",
       "    .dataframe thead th {\n",
       "        text-align: right;\n",
       "    }\n",
       "</style>\n",
       "<table border=\"1\" class=\"dataframe\">\n",
       "  <thead>\n",
       "    <tr style=\"text-align: right;\">\n",
       "      <th></th>\n",
       "      <th>?curie</th>\n",
       "      <th>?label</th>\n",
       "      <th>?xref</th>\n",
       "      <th>?source</th>\n",
       "    </tr>\n",
       "  </thead>\n",
       "  <tbody>\n",
       "    <tr>\n",
       "      <th>0</th>\n",
       "      <td>MONDO:0000001</td>\n",
       "      <td>disease</td>\n",
       "      <td>DOID:4</td>\n",
       "      <td>EFO:0000408</td>\n",
       "    </tr>\n",
       "    <tr>\n",
       "      <th>1</th>\n",
       "      <td>MONDO:0000001</td>\n",
       "      <td>disease</td>\n",
       "      <td>DOID:4</td>\n",
       "      <td>MONDO:equivalentTo</td>\n",
       "    </tr>\n",
       "    <tr>\n",
       "      <th>2</th>\n",
       "      <td>MONDO:0000001</td>\n",
       "      <td>disease</td>\n",
       "      <td>ICD9:799.9</td>\n",
       "      <td>MONDO:i2s</td>\n",
       "    </tr>\n",
       "    <tr>\n",
       "      <th>3</th>\n",
       "      <td>MONDO:0000001</td>\n",
       "      <td>disease</td>\n",
       "      <td>ICD9:799.9</td>\n",
       "      <td>MONDO:relatedTo</td>\n",
       "    </tr>\n",
       "    <tr>\n",
       "      <th>4</th>\n",
       "      <td>MONDO:0000001</td>\n",
       "      <td>disease</td>\n",
       "      <td>MEDGEN:4347</td>\n",
       "      <td>MONDO:MEDGEN</td>\n",
       "    </tr>\n",
       "  </tbody>\n",
       "</table>\n",
       "</div>"
      ],
      "text/plain": [
       "          ?curie   ?label        ?xref             ?source\n",
       "0  MONDO:0000001  disease       DOID:4         EFO:0000408\n",
       "1  MONDO:0000001  disease       DOID:4  MONDO:equivalentTo\n",
       "2  MONDO:0000001  disease   ICD9:799.9           MONDO:i2s\n",
       "3  MONDO:0000001  disease   ICD9:799.9     MONDO:relatedTo\n",
       "4  MONDO:0000001  disease  MEDGEN:4347        MONDO:MEDGEN"
      ]
     },
     "execution_count": 15,
     "metadata": {},
     "output_type": "execute_result"
    }
   ],
   "source": [
    "# Read in Mondo mapping file `data/mondo_mappings.tsv` from running the SPARQL query `sparql/get_mappings.rq`\n",
    "\n",
    "df = pd.read_csv('data/mondo_mappings.tsv', sep='\\t')\n",
    "df.head()"
   ]
  },
  {
   "cell_type": "code",
   "execution_count": 17,
   "id": "84b2ecc6-9bf7-46f2-b972-5d87ee870e44",
   "metadata": {},
   "outputs": [
    {
     "data": {
      "text/html": [
       "<div>\n",
       "<style scoped>\n",
       "    .dataframe tbody tr th:only-of-type {\n",
       "        vertical-align: middle;\n",
       "    }\n",
       "\n",
       "    .dataframe tbody tr th {\n",
       "        vertical-align: top;\n",
       "    }\n",
       "\n",
       "    .dataframe thead th {\n",
       "        text-align: right;\n",
       "    }\n",
       "</style>\n",
       "<table border=\"1\" class=\"dataframe\">\n",
       "  <thead>\n",
       "    <tr style=\"text-align: right;\">\n",
       "      <th></th>\n",
       "      <th>?curie</th>\n",
       "      <th>?label</th>\n",
       "      <th>?xref</th>\n",
       "      <th>?source</th>\n",
       "    </tr>\n",
       "  </thead>\n",
       "  <tbody>\n",
       "    <tr>\n",
       "      <th>0</th>\n",
       "      <td>MONDO:0000001</td>\n",
       "      <td>disease</td>\n",
       "      <td>DOID:4</td>\n",
       "      <td>EFO:0000408</td>\n",
       "    </tr>\n",
       "    <tr>\n",
       "      <th>1</th>\n",
       "      <td>MONDO:0000001</td>\n",
       "      <td>disease</td>\n",
       "      <td>DOID:4</td>\n",
       "      <td>MONDO:equivalentTo</td>\n",
       "    </tr>\n",
       "    <tr>\n",
       "      <th>2</th>\n",
       "      <td>MONDO:0000004</td>\n",
       "      <td>adrenocortical insufficiency</td>\n",
       "      <td>DOID:10493</td>\n",
       "      <td>MONDO:equivalentTo</td>\n",
       "    </tr>\n",
       "    <tr>\n",
       "      <th>3</th>\n",
       "      <td>MONDO:0000009</td>\n",
       "      <td>inherited bleeding disorder, platelet-type</td>\n",
       "      <td>DOID:2218</td>\n",
       "      <td>MONDO:equivalentTo</td>\n",
       "    </tr>\n",
       "    <tr>\n",
       "      <th>4</th>\n",
       "      <td>MONDO:0000023</td>\n",
       "      <td>infantile liver failure</td>\n",
       "      <td>DOID:0080716</td>\n",
       "      <td>MONDO:equivalentTo</td>\n",
       "    </tr>\n",
       "  </tbody>\n",
       "</table>\n",
       "</div>"
      ],
      "text/plain": [
       "          ?curie                                      ?label         ?xref  \\\n",
       "0  MONDO:0000001                                     disease        DOID:4   \n",
       "1  MONDO:0000001                                     disease        DOID:4   \n",
       "2  MONDO:0000004                adrenocortical insufficiency    DOID:10493   \n",
       "3  MONDO:0000009  inherited bleeding disorder, platelet-type     DOID:2218   \n",
       "4  MONDO:0000023                     infantile liver failure  DOID:0080716   \n",
       "\n",
       "              ?source  \n",
       "0         EFO:0000408  \n",
       "1  MONDO:equivalentTo  \n",
       "2  MONDO:equivalentTo  \n",
       "3  MONDO:equivalentTo  \n",
       "4  MONDO:equivalentTo  "
      ]
     },
     "execution_count": 17,
     "metadata": {},
     "output_type": "execute_result"
    }
   ],
   "source": [
    "# Filter dataframe to rows where `?xref` starts with DOID to start with only data \n",
    "# where a Mondo class is mapped to a Disease Ontology term\n",
    "\n",
    "mondo_do_df = df[df['?xref'].str.startswith('DOID:', na=False)].copy()\n",
    "mondo_do_df.reset_index(drop=True, inplace=True)\n",
    "\n",
    "mondo_do_df.head()"
   ]
  },
  {
   "cell_type": "code",
   "execution_count": 18,
   "id": "ef047e2e-4854-4a41-ad60-c285d0ed4565",
   "metadata": {},
   "outputs": [
    {
     "data": {
      "text/plain": [
       "?curie     11554\n",
       "?label     11554\n",
       "?xref      11722\n",
       "?source     1272\n",
       "dtype: int64"
      ]
     },
     "execution_count": 18,
     "metadata": {},
     "output_type": "execute_result"
    }
   ],
   "source": [
    "# Get stats for filtered Mondo dataframe\n",
    "mondo_do_df.nunique()"
   ]
  },
  {
   "cell_type": "code",
   "execution_count": null,
   "id": "fb199f2e-cf99-4993-9070-ddff384934a3",
   "metadata": {},
   "outputs": [],
   "source": []
  }
 ],
 "metadata": {
  "kernelspec": {
   "display_name": "Python 3 (ipykernel)",
   "language": "python",
   "name": "python3"
  },
  "language_info": {
   "codemirror_mode": {
    "name": "ipython",
    "version": 3
   },
   "file_extension": ".py",
   "mimetype": "text/x-python",
   "name": "python",
   "nbconvert_exporter": "python",
   "pygments_lexer": "ipython3",
   "version": "3.8.0"
  }
 },
 "nbformat": 4,
 "nbformat_minor": 5
}
